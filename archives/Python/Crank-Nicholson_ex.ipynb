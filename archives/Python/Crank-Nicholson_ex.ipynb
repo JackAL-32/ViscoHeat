{
 "cells": [
  {
   "cell_type": "code",
   "execution_count": 8,
   "id": "e0532b7c-41ef-4e9f-81d2-b4abc1ca224e",
   "metadata": {},
   "outputs": [],
   "source": [
    "from numpy import *\n",
    "from matplotlib.pyplot import *"
   ]
  },
  {
   "cell_type": "code",
   "execution_count": 9,
   "id": "eb68e059-71a2-4ee2-9ada-5b356fb33fef",
   "metadata": {},
   "outputs": [],
   "source": [
    "h = 0.25\n",
    "k = 0.25\n",
    "x = arange(0,1+h,h)\n",
    "t = arange(0,1+k,k)\n",
    "\n",
    "boundcon = [0,0]\n",
    "initcon = sin(pi*x)\n",
    "\n",
    "n = len(x)\n",
    "m = len(t)\n",
    "\n",
    "T = zeros((n,m))\n",
    "T[0,:] = boundcon[0]\n",
    "T[-1,:] = boundcon[1]\n",
    "T[:,0] = initcon\n",
    "\n",
    "lmda = 0.001\n",
    "\n",
    "A = diag([1 + 2*lmda]*3,0) + diag([-lmda]*2,-1) + diag([-lmda]*2,1)\n",
    "\n",
    "for j in range(1,m):\n",
    "    b = T[1:-1,j-1].copy()\n",
    "    b[0] = b[0] + lmda*T[0,j]\n",
    "    b[-1] = b[-1] + lmda*T[-1,j]\n",
    "    soltn = linalg.solve(A,b)\n",
    "    T[1:-1,j] = soltn"
   ]
  },
  {
   "cell_type": "code",
   "execution_count": 10,
   "id": "c648e50c-ba2c-4b34-aa9e-bd3a3fa8fef9",
   "metadata": {},
   "outputs": [
    {
     "data": {
      "text/plain": [
       "array([[0.     , 0.     , 0.     , 0.     , 0.     ],\n",
       "       [0.70711, 0.70669, 0.70628, 0.70587, 0.70545],\n",
       "       [1.     , 0.99941, 0.99883, 0.99824, 0.99766],\n",
       "       [0.70711, 0.70669, 0.70628, 0.70587, 0.70545],\n",
       "       [0.     , 0.     , 0.     , 0.     , 0.     ]])"
      ]
     },
     "execution_count": 10,
     "metadata": {},
     "output_type": "execute_result"
    }
   ],
   "source": [
    "T.round(5)"
   ]
  },
  {
   "cell_type": "code",
   "execution_count": 11,
   "id": "5427cf6f-ac4f-43d9-a866-ab57f0768040",
   "metadata": {},
   "outputs": [],
   "source": [
    "h = 0.2\n",
    "k = 0.25\n",
    "x = arange(0,1+h,h)\n",
    "t = arange(0,1+k,k)\n",
    "\n",
    "boundcon = [0,0]\n",
    "initcon = sin(pi*x)\n",
    "\n",
    "n = len(x)\n",
    "m = len(t)\n",
    "\n",
    "T = zeros((n,m))\n",
    "T[0,:] = boundcon[0]\n",
    "T[-1,:] = boundcon[1]\n",
    "T[:,0] = initcon\n",
    "\n",
    "lmda = 0.001\n",
    "\n",
    "A = diag([1 + 2*lmda]*4,0) + diag([-lmda]*3,-1) + diag([-lmda]*3,1)\n",
    "\n",
    "for j in range(1,m):\n",
    "    b = T[1:-1,j-1].copy()\n",
    "    b[0] = b[0] + lmda*T[0,j]\n",
    "    b[-1] = b[-1] + lmda*T[-1,j]\n",
    "    soltn = linalg.solve(A,b)\n",
    "    T[1:-1,j] = soltn"
   ]
  },
  {
   "cell_type": "code",
   "execution_count": 12,
   "id": "8614c332-1d85-46b6-8701-5a44c4d36118",
   "metadata": {},
   "outputs": [
    {
     "data": {
      "text/plain": [
       "array([[0.     , 0.     , 0.     , 0.     , 0.     ],\n",
       "       [0.58779, 0.58756, 0.58734, 0.58711, 0.58689],\n",
       "       [0.95106, 0.95069, 0.95033, 0.94997, 0.9496 ],\n",
       "       [0.95106, 0.95069, 0.95033, 0.94997, 0.9496 ],\n",
       "       [0.58779, 0.58756, 0.58734, 0.58711, 0.58689],\n",
       "       [0.     , 0.     , 0.     , 0.     , 0.     ]])"
      ]
     },
     "execution_count": 12,
     "metadata": {},
     "output_type": "execute_result"
    }
   ],
   "source": [
    "T.round(5)"
   ]
  },
  {
   "cell_type": "code",
   "execution_count": null,
   "id": "3da3588f-fe3c-4d64-bf7b-a30afed3acac",
   "metadata": {},
   "outputs": [],
   "source": []
  }
 ],
 "metadata": {
  "kernelspec": {
   "display_name": "Python 3 (ipykernel)",
   "language": "python",
   "name": "python3"
  },
  "language_info": {
   "codemirror_mode": {
    "name": "ipython",
    "version": 3
   },
   "file_extension": ".py",
   "mimetype": "text/x-python",
   "name": "python",
   "nbconvert_exporter": "python",
   "pygments_lexer": "ipython3",
   "version": "3.8.1"
  }
 },
 "nbformat": 4,
 "nbformat_minor": 5
}
